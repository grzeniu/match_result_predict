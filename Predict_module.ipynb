{
 "cells": [
  {
   "cell_type": "code",
   "execution_count": 1,
   "metadata": {},
   "outputs": [],
   "source": [
    "def warn(*args, **kwargs):\n",
    "    pass\n",
    "import warnings\n",
    "warnings.warn = warn\n",
    "warnings.filterwarnings(\"ignore\", category=DeprecationWarning)\n",
    "\n",
    "import sys, os\n",
    "import pandas as pd\n",
    "from pandas import DataFrame\n",
    "import datetime\n",
    "import numpy as np \n",
    "import scipy as sc\n",
    "import scipy.stats as st\n",
    "import matplotlib.pyplot as plt\n",
    "%matplotlib inline\n",
    "\n",
    "from sklearn.linear_model import LogisticRegression\n",
    "from sklearn.metrics import accuracy_score, confusion_matrix, classification_report\n",
    "from sklearn.model_selection import KFold,cross_val_score, learning_curve, cross_validate,train_test_split,GridSearchCV \n",
    "from sklearn.feature_selection import RFE, RFECV \n",
    "from sklearn.model_selection import RandomizedSearchCV\n",
    "\n",
    "import xgboost as xgb"
   ]
  },
  {
   "cell_type": "code",
   "execution_count": 2,
   "metadata": {},
   "outputs": [
    {
     "name": "stdout",
     "output_type": "stream",
     "text": [
      "<class 'pandas.core.frame.DataFrame'>\n",
      "RangeIndex: 2660 entries, 0 to 2659\n",
      "Data columns (total 71 columns):\n",
      "AF5              2589 non-null object\n",
      "AGD10            2660 non-null float64\n",
      "AGD20            2660 non-null float64\n",
      "AGD30            2660 non-null float64\n",
      "AGD38            2660 non-null float64\n",
      "AGD5             2660 non-null float64\n",
      "AGL10            2660 non-null float64\n",
      "AGL20            2660 non-null float64\n",
      "AGL30            2660 non-null float64\n",
      "AGL38            2660 non-null float64\n",
      "AGL5             2660 non-null float64\n",
      "AGS10            2660 non-null float64\n",
      "AGS20            2660 non-null float64\n",
      "AGS30            2660 non-null float64\n",
      "AGS38            2660 non-null float64\n",
      "AGS5             2660 non-null float64\n",
      "ALF5             2660 non-null float64\n",
      "AP10             2660 non-null float64\n",
      "AP20             2660 non-null float64\n",
      "AP30             2660 non-null float64\n",
      "AP38             2660 non-null float64\n",
      "AP5              2660 non-null float64\n",
      "AwayTeam         2660 non-null object\n",
      "DP10             2660 non-null float64\n",
      "DP20             2660 non-null float64\n",
      "DP30             2660 non-null float64\n",
      "DP38             2660 non-null float64\n",
      "DP5              2660 non-null float64\n",
      "Day              2660 non-null int64\n",
      "DaysFromToday    2660 non-null int64\n",
      "FTR              2660 non-null object\n",
      "GD10             2660 non-null float64\n",
      "GD20             2660 non-null float64\n",
      "GD30             2660 non-null float64\n",
      "GD38             2660 non-null float64\n",
      "GD5              2660 non-null float64\n",
      "HF5              2589 non-null object\n",
      "HGD10            2660 non-null float64\n",
      "HGD20            2660 non-null float64\n",
      "HGD30            2660 non-null float64\n",
      "HGD38            2660 non-null float64\n",
      "HGD5             2660 non-null float64\n",
      "HGL10            2660 non-null float64\n",
      "HGL20            2660 non-null float64\n",
      "HGL30            2660 non-null float64\n",
      "HGL38            2660 non-null float64\n",
      "HGL5             2660 non-null float64\n",
      "HGS10            2660 non-null float64\n",
      "HGS20            2660 non-null float64\n",
      "HGS30            2660 non-null float64\n",
      "HGS38            2660 non-null float64\n",
      "HGS5             2660 non-null float64\n",
      "HLF5             2660 non-null float64\n",
      "HP10             2660 non-null float64\n",
      "HP20             2660 non-null float64\n",
      "HP30             2660 non-null float64\n",
      "HP38             2660 non-null float64\n",
      "HP5              2660 non-null float64\n",
      "HomeTeam         2660 non-null object\n",
      "LFD5             2660 non-null float64\n",
      "LSTPA            2660 non-null int64\n",
      "LSTPD            2660 non-null float64\n",
      "LSTPH            2660 non-null int64\n",
      "MW               2660 non-null float64\n",
      "Month            2660 non-null int64\n",
      "Year             2660 non-null int64\n",
      "DPB5             2660 non-null float64\n",
      "DPB10            2660 non-null float64\n",
      "DPB20            2660 non-null float64\n",
      "DPB30            2660 non-null float64\n",
      "DPB40            2660 non-null float64\n",
      "dtypes: float64(60), int64(6), object(5)\n",
      "memory usage: 1.4+ MB\n"
     ]
    }
   ],
   "source": [
    "df = pd.concat(map(pd.read_csv, ['football_data.csv']),ignore_index=True)\n",
    "df.info()"
   ]
  },
  {
   "cell_type": "code",
   "execution_count": 3,
   "metadata": {},
   "outputs": [],
   "source": [
    "def ent(data):\n",
    "    p_data= data.value_counts()/len(data)\n",
    "    entropy=sc.stats.entropy(p_data)\n",
    "    return entropy"
   ]
  },
  {
   "cell_type": "code",
   "execution_count": 4,
   "metadata": {},
   "outputs": [
    {
     "name": "stdout",
     "output_type": "stream",
     "text": [
      "AF5:\n",
      "5.5028047411924454\n",
      "AGD10:\n",
      "3.392540058401983\n",
      "AGD20:\n",
      "3.8130019757996108\n",
      "AGD30:\n",
      "4.006051190612034\n",
      "AGD38:\n",
      "4.038414691086238\n",
      "AGD5:\n",
      "2.9363806936601473\n",
      "AGL10:\n",
      "3.1153243900476952\n",
      "AGL20:\n",
      "3.7286809079993533\n",
      "AGL30:\n",
      "4.028501522218098\n",
      "AGL38:\n",
      "4.095941859965337\n",
      "AGL5:\n",
      "2.546108352313596\n",
      "AGS10:\n",
      "3.195947795940452\n",
      "AGS20:\n",
      "3.8020464831228056\n",
      "AGS30:\n",
      "4.074683721265119\n",
      "AGS38:\n",
      "4.136484659747769\n",
      "AGS5:\n",
      "2.621039878833137\n",
      "ALF5:\n",
      "1.0968684220549123\n",
      "AP10:\n",
      "3.2116539462394034\n",
      "AP20:\n",
      "3.8046653745371706\n",
      "AP30:\n",
      "4.074370937264384\n",
      "AP38:\n",
      "4.1370344468587374\n",
      "AP5:\n",
      "2.6112500788129496\n",
      "AwayTeam:\n",
      "3.3161996564250815\n",
      "DP10:\n",
      "3.3592865687485873\n",
      "DP20:\n",
      "3.793070174931307\n",
      "DP30:\n",
      "3.96906382372272\n",
      "DP38:\n",
      "4.00398364333219\n",
      "DP5:\n",
      "2.9230274230190356\n",
      "Day:\n",
      "3.413353249254687\n",
      "DaysFromToday:\n",
      "5.003346345408895\n",
      "FTR:\n",
      "1.0656503483448936\n",
      "GD10:\n",
      "3.726269085728915\n",
      "GD20:\n",
      "4.1776823101610425\n",
      "GD30:\n",
      "4.355056461557782\n",
      "GD38:\n",
      "4.3841680967256575\n",
      "GD5:\n",
      "3.281079726611535\n",
      "HF5:\n",
      "5.4966921483437865\n",
      "HGD10:\n",
      "3.3949354036568673\n",
      "HGD20:\n",
      "3.817439034687535\n",
      "HGD30:\n",
      "4.006458546506313\n",
      "HGD38:\n",
      "4.034124391758658\n",
      "HGD5:\n",
      "2.9550259755744834\n",
      "HGL10:\n",
      "3.1212756443204306\n",
      "HGL20:\n",
      "3.7250377734877413\n",
      "HGL30:\n",
      "4.027452889720191\n",
      "HGL38:\n",
      "4.092884816458958\n",
      "HGL5:\n",
      "2.576006659966631\n",
      "HGS10:\n",
      "3.1895866357607856\n",
      "HGS20:\n",
      "3.798308672119147\n",
      "HGS30:\n",
      "4.072402952695159\n",
      "HGS38:\n",
      "4.133727865435429\n",
      "HGS5:\n",
      "2.608501198897101\n",
      "HLF5:\n",
      "1.1342706004808814\n",
      "HP10:\n",
      "3.209751878049044\n",
      "HP20:\n",
      "3.8040130372607868\n",
      "HP30:\n",
      "4.078154196022475\n",
      "HP38:\n",
      "4.144163123894081\n",
      "HP5:\n",
      "2.6065387798329236\n",
      "HomeTeam:\n",
      "3.3161996564250815\n",
      "LFD5:\n",
      "1.7055254682508332\n",
      "LSTPA:\n",
      "2.830940430253775\n",
      "LSTPD:\n",
      "3.5334379243833016\n",
      "LSTPH:\n",
      "2.830940430253775\n",
      "MW:\n",
      "3.6375861597263865\n",
      "Month:\n",
      "2.27921313747652\n",
      "Year:\n",
      "2.0385123643248733\n",
      "DPB5:\n",
      "1.9227527044016082\n",
      "DPB10:\n",
      "2.120763718226297\n",
      "DPB20:\n",
      "2.1389843961212875\n",
      "DPB30:\n",
      "2.1389843961212875\n",
      "DPB40:\n",
      "2.1389843961212875\n"
     ]
    }
   ],
   "source": [
    "#Czy entropia ma zwiazek z korelacja ??\n",
    "for column in list(df.columns.values):\n",
    "    print (column+':')\n",
    "    print (ent(df[column]))"
   ]
  },
  {
   "cell_type": "code",
   "execution_count": 5,
   "metadata": {},
   "outputs": [],
   "source": [
    "def code_string_values(df):\n",
    "    team_code = df.AwayTeam.unique()\n",
    "    team_code = dict(zip(team_code, range(len(team_code))))\n",
    "    df = df.applymap(lambda s: team_code.get(s) if s in team_code else s)    \n",
    "    \n",
    "    form_code = df.HF5.unique()\n",
    "    form_code2 = df.AF5.unique()\n",
    "    form_code = np.concatenate((form_code, form_code2))\n",
    "    \n",
    "    form_code= dict(zip(form_code, range(len(form_code))))\n",
    "    \n",
    "    to_code = df.copy()\n",
    "    to_code = to_code.applymap(lambda s: form_code.get(s) if s in form_code else s)\n",
    "    \n",
    "    df['HF5'] = to_code['HF5']\n",
    "    df['AF5'] = to_code['AF5']\n",
    "\n",
    "    return df\n",
    "\n",
    "df = code_string_values(df)"
   ]
  },
  {
   "cell_type": "code",
   "execution_count": 6,
   "metadata": {},
   "outputs": [
    {
     "name": "stdout",
     "output_type": "stream",
     "text": [
      "0.4699248120300752\n",
      "0.44877819548872183\n",
      "\n",
      "\n",
      "0.2236842105263158\n",
      "0.2551691729323308\n",
      "\n",
      "\n",
      "0.30639097744360905\n",
      "0.29605263157894735\n"
     ]
    }
   ],
   "source": [
    "df_copy = df.copy()\n",
    "\n",
    "X = df_copy[df_copy.columns.difference(['FTR'])]\n",
    "y = df_copy['FTR']\n",
    "\n",
    "X_train, X_test, y_train, y_test = train_test_split(X, y, test_size=0.2, random_state=0)\n",
    "\n",
    "print(y_test.value_counts()['H']/len(y_test))\n",
    "print(y_train.value_counts()['H']/len(y_train))\n",
    "print('\\n')\n",
    "print(y_test.value_counts()['D']/len(y_test))\n",
    "print(y_train.value_counts()['D']/len(y_train))\n",
    "print('\\n')\n",
    "print(y_test.value_counts()['A']/len(y_test))\n",
    "print(y_train.value_counts()['A']/len(y_train))"
   ]
  },
  {
   "cell_type": "code",
   "execution_count": 8,
   "metadata": {},
   "outputs": [],
   "source": [
    "df_copy = df.copy()\n",
    "\n",
    "X = df_copy[df_copy.columns.difference(['FTR'])]\n",
    "y = df_copy['FTR']\n",
    "\n",
    "X_train, X_validation, y_train, y_validation = train_test_split(X, y, test_size=0.2, random_state=2019)"
   ]
  },
  {
   "cell_type": "code",
   "execution_count": 9,
   "metadata": {},
   "outputs": [
    {
     "name": "stdout",
     "output_type": "stream",
     "text": [
      "Accuracy of logistic regression classifier on test validation set: 0.515\n"
     ]
    }
   ],
   "source": [
    "classifier = LogisticRegression() \n",
    "classifier = classifier.fit(X_train,y_train)\n",
    "print('Accuracy of logistic regression classifier on test validation set: {:.3f}'\n",
    "      .format(classifier.score(X_validation, y_validation)))"
   ]
  },
  {
   "cell_type": "code",
   "execution_count": 10,
   "metadata": {
    "scrolled": true
   },
   "outputs": [
    {
     "name": "stdout",
     "output_type": "stream",
     "text": [
      "seed  0\n",
      "Accuracy of logistic regression classifier on train set: 0.5500\n",
      "Accuracy of logistic regression classifier on test set: 0.5164\n",
      "seed  1\n",
      "Accuracy of logistic regression classifier on train set: 0.5534\n",
      "Accuracy of logistic regression classifier on test set: 0.5117\n",
      "seed  2\n",
      "Accuracy of logistic regression classifier on train set: 0.5326\n",
      "Accuracy of logistic regression classifier on test set: 0.5368\n",
      "seed  3\n",
      "Accuracy of logistic regression classifier on train set: 0.5473\n",
      "Accuracy of logistic regression classifier on test set: 0.5133\n",
      "seed  4\n",
      "Accuracy of logistic regression classifier on train set: 0.5433\n",
      "Accuracy of logistic regression classifier on test set: 0.5383\n"
     ]
    }
   ],
   "source": [
    "X = X_train.copy()\n",
    "y = y_train.copy()\n",
    "\n",
    "for c in range(5):\n",
    "    print(\"seed \",c)\n",
    "    Xtrain, Xtest, ytrain, ytest = train_test_split(X, y, test_size=0.3, random_state=c)\n",
    "\n",
    "    classifier = LogisticRegression()\n",
    "    classifier.fit(Xtrain, ytrain)\n",
    "    print('Accuracy of logistic regression classifier on train set: {:.4f}'.format(classifier.score(Xtrain, ytrain)))\n",
    "    print('Accuracy of logistic regression classifier on test set: {:.4f}'.format(classifier.score(Xtest, ytest)))"
   ]
  },
  {
   "cell_type": "code",
   "execution_count": 11,
   "metadata": {},
   "outputs": [
    {
     "name": "stdout",
     "output_type": "stream",
     "text": [
      "LogisticRegression average accuracy for cross-validation sets is 0.515\n",
      "Number of estimator  0\n",
      "Accuracy of logistic regression classifier on validation set: 0.54\n",
      "Accuracy of logistic regression classifier on test set: 0.51\n",
      "\n",
      "\n",
      "Number of estimator  1\n",
      "Accuracy of logistic regression classifier on validation set: 0.52\n",
      "Accuracy of logistic regression classifier on test set: 0.51\n",
      "\n",
      "\n",
      "Number of estimator  2\n",
      "Accuracy of logistic regression classifier on validation set: 0.47\n",
      "Accuracy of logistic regression classifier on test set: 0.52\n",
      "\n",
      "\n",
      "Number of estimator  3\n",
      "Accuracy of logistic regression classifier on validation set: 0.50\n",
      "Accuracy of logistic regression classifier on test set: 0.51\n",
      "\n",
      "\n",
      "Number of estimator  4\n",
      "Accuracy of logistic regression classifier on validation set: 0.50\n",
      "Accuracy of logistic regression classifier on test set: 0.51\n",
      "\n",
      "\n",
      "Number of estimator  5\n",
      "Accuracy of logistic regression classifier on validation set: 0.51\n",
      "Accuracy of logistic regression classifier on test set: 0.51\n",
      "\n",
      "\n",
      "Number of estimator  6\n",
      "Accuracy of logistic regression classifier on validation set: 0.51\n",
      "Accuracy of logistic regression classifier on test set: 0.51\n",
      "\n",
      "\n",
      "Number of estimator  7\n",
      "Accuracy of logistic regression classifier on validation set: 0.53\n",
      "Accuracy of logistic regression classifier on test set: 0.51\n",
      "\n",
      "\n",
      "Number of estimator  8\n",
      "Accuracy of logistic regression classifier on validation set: 0.55\n",
      "Accuracy of logistic regression classifier on test set: 0.52\n",
      "\n",
      "\n",
      "Number of estimator  9\n",
      "Accuracy of logistic regression classifier on validation set: 0.54\n",
      "Accuracy of logistic regression classifier on test set: 0.51\n",
      "\n",
      "\n"
     ]
    }
   ],
   "source": [
    "X = X_train.copy()\n",
    "y = y_train.copy()\n",
    "\n",
    "classifier = LogisticRegression()\n",
    "scores = cross_validate(classifier, X, y, cv=10, scoring='accuracy', return_train_score=False, return_estimator=True, n_jobs=-1)\n",
    "print(classifier.__class__.__name__+\" average accuracy for cross-validation sets is %2.3f\" % scores['test_score'].mean())\n",
    "\n",
    "ytest = DataFrame(y_validation)\n",
    "ytrain = DataFrame(y_train)\n",
    "\n",
    "for i in range(10):\n",
    "    print('Number of estimator ',i)\n",
    "    print('Accuracy of logistic regression classifier on validation set: {:.2f}'.format(scores['test_score'][i]))\n",
    "    print('Accuracy of logistic regression classifier on test set: {:.2f}'.format(scores['estimator'][i].score(X_validation, ytest)))\n",
    "    print('\\n')"
   ]
  },
  {
   "cell_type": "code",
   "execution_count": 12,
   "metadata": {},
   "outputs": [],
   "source": [
    "def normalize(df):\n",
    "    colums_to_normalization = list(df.columns.values)\n",
    "    df[colums_to_normalization] = df[colums_to_normalization].apply(lambda x: (x - x.mean()) / (x.max() - x.min()))\n",
    "    return df"
   ]
  },
  {
   "cell_type": "code",
   "execution_count": 13,
   "metadata": {},
   "outputs": [
    {
     "name": "stdout",
     "output_type": "stream",
     "text": [
      "LogisticRegression average accuracy for cross-validation test set is 0.529\n"
     ]
    }
   ],
   "source": [
    "X = X_train.copy()\n",
    "y = y_train.copy()\n",
    "\n",
    "X = normalize(X)\n",
    "\n",
    "classifier = LogisticRegression()\n",
    "scores = cross_validate(classifier, X, y, cv=10, scoring='accuracy', return_train_score=False, return_estimator=True, n_jobs=-1)\n",
    "print(classifier.__class__.__name__+\" average accuracy for cross-validation test set is %2.3f\" % scores['test_score'].mean())"
   ]
  },
  {
   "cell_type": "code",
   "execution_count": 14,
   "metadata": {},
   "outputs": [
    {
     "name": "stdout",
     "output_type": "stream",
     "text": [
      "Before normaliazation :\n",
      "Average fitting time 0.875\n",
      "After normaliazation :\n",
      "Average fitting time 0.302\n",
      "\n",
      "\n",
      "Before normaliazation :\n",
      "Average fitting time 0.891\n",
      "After normaliazation :\n",
      "Average fitting time 0.271\n",
      "\n",
      "\n",
      "Before normaliazation :\n",
      "Average fitting time 0.895\n",
      "After normaliazation :\n",
      "Average fitting time 0.250\n",
      "\n",
      "\n",
      "Before normaliazation :\n",
      "Average fitting time 0.856\n",
      "After normaliazation :\n",
      "Average fitting time 0.261\n",
      "\n",
      "\n",
      "Before normaliazation :\n",
      "Average fitting time 0.811\n",
      "After normaliazation :\n",
      "Average fitting time 0.264\n",
      "\n",
      "\n"
     ]
    }
   ],
   "source": [
    "for j in range(5):\n",
    "    for i in range(2):\n",
    "        X = X_train.copy()\n",
    "        y = y_train.copy()\n",
    "        if i == 1:\n",
    "            X = normalize(X)\n",
    "            print(\"After normaliazation :\")\n",
    "        else :\n",
    "            print(\"Before normaliazation :\")\n",
    "\n",
    "        classifier = LogisticRegression()\n",
    "        scores = cross_validate(classifier, X, y, cv=10, scoring='accuracy', return_train_score=False, n_jobs=-1)\n",
    "        print(\"Average fitting time %2.3f\" % scores['fit_time'].mean())\n",
    "    print('\\n')"
   ]
  },
  {
   "cell_type": "code",
   "execution_count": 15,
   "metadata": {},
   "outputs": [],
   "source": [
    "def remove_outliers(column):\n",
    "    elements = np.array(df[column])\n",
    "    \n",
    "    mean = np.mean(elements, axis=0)\n",
    "    sd = np.std(elements, axis=0)\n",
    "    \n",
    "    final_list = [x for x in np.array(df[column]) if (x > mean - 3 * sd)]\n",
    "    return [x for x in final_list if (x < mean + 3 * sd)]\n",
    "\n",
    "def remove_outliers_for_FTR(df_copy):\n",
    "    df_copy_Home = df_copy[df_copy['FTR'].isin(['H'])]\n",
    "    df_copy_Draw = df_copy[df_copy['FTR'].isin(['D'])]\n",
    "    df_copy_Away = df_copy[df_copy['FTR'].isin(['A'])]\n",
    "\n",
    "    columns = ['AGD5', 'AGL5', 'AGS20', 'AGS30', 'GD38', 'HGD10', 'HGS10', 'HGS30', 'HGS38', 'LSTPA', 'LSTPD']\n",
    "\n",
    "    for c in columns :\n",
    "        df_copy_Home = df_copy_Home[df_copy_Home[c].isin(remove_outliers(c))]\n",
    "        df_copy_Draw = df_copy_Draw[df_copy_Draw[c].isin(remove_outliers(c))]\n",
    "        df_copy_Away = df_copy_Away[df_copy_Away[c].isin(remove_outliers(c))]\n",
    "    \n",
    "    filepaths = [df_copy_Home,df_copy_Draw,df_copy_Away]\n",
    "    return pd.concat(filepaths,ignore_index=True)"
   ]
  },
  {
   "cell_type": "code",
   "execution_count": 16,
   "metadata": {},
   "outputs": [],
   "source": [
    "def print_example_scatter(df,X):\n",
    "    plt.scatter(df['FTR'], df['AGD5'], color= 'red')\n",
    "    plt.scatter(X['FTR'], X['AGD5'],alpha=0.25)\n",
    "    plt.show()"
   ]
  },
  {
   "cell_type": "code",
   "execution_count": 17,
   "metadata": {},
   "outputs": [
    {
     "name": "stdout",
     "output_type": "stream",
     "text": [
      "Numbers of rows before removing outliers :  2128\n",
      "Numbers of rows after removing outliers :  2051\n"
     ]
    },
    {
     "data": {
      "image/png": "[encoded data removed]",
      "text/plain": [
       "<Figure size 432x288 with 1 Axes>"
      ]
     },
     "metadata": {
      "needs_background": "light"
     },
     "output_type": "display_data"
    },
    {
     "name": "stdout",
     "output_type": "stream",
     "text": [
      "LogisticRegression average accuracy for cross-validation test set is 0.521\n"
     ]
    }
   ],
   "source": [
    "X = X_train.copy()\n",
    "y = y_train.copy()\n",
    "X['FTR'] = y\n",
    "print(\"Numbers of rows before removing outliers : \",len(X))\n",
    "X = remove_outliers_for_FTR(X)\n",
    "print(\"Numbers of rows after removing outliers : \",len(X))\n",
    "print_example_scatter(df,X)\n",
    "y = X['FTR']\n",
    "\n",
    "X = X[X.columns.difference(['FTR'])]\n",
    "X = normalize(X)\n",
    "classifier = LogisticRegression()\n",
    "scores = cross_validate(classifier, X, y, cv=10, scoring='accuracy', return_train_score=False, return_estimator=True, n_jobs=-1)\n",
    "print(classifier.__class__.__name__+\" average accuracy for cross-validation test set is %2.3f\" % scores['test_score'].mean())"
   ]
  },
  {
   "cell_type": "code",
   "execution_count": 18,
   "metadata": {},
   "outputs": [
    {
     "name": "stdout",
     "output_type": "stream",
     "text": [
      "AF5\n",
      "0.013840997610811132\n",
      "AGD10\n",
      "-0.21462735779937134\n",
      "AGD20\n",
      "-0.24309187489183978\n",
      "AGD30\n",
      "-0.24117986223171212\n",
      "AGD38\n",
      "-0.23763645620341367\n",
      "AGD5\n",
      "-0.20427424184381587\n",
      "AGL10\n",
      "0.13746212241115188\n",
      "AGL20\n",
      "0.1266533122972552\n",
      "AGL30\n",
      "0.10868053251513328\n",
      "AGL38\n",
      "0.10322434207253804\n",
      "AGL5\n",
      "0.14646918557866845\n",
      "AGS10\n",
      "-0.1296383450858232\n",
      "AGS20\n",
      "-0.10864468294554269\n",
      "AGS30\n",
      "-0.07754640047241805\n",
      "AGS38\n",
      "-0.07039512310519637\n",
      "AGS5\n",
      "-0.13837884624713043\n",
      "ALF5\n",
      "-0.11184125389253341\n",
      "AP10\n",
      "-0.1319179120707783\n",
      "AP20\n",
      "-0.11017763659690044\n",
      "AP30\n",
      "-0.07949971958393198\n",
      "AP38\n",
      "-0.07206432250027255\n",
      "AP5\n",
      "-0.14823486910566364\n",
      "AwayTeam\n",
      "0.12580242366218183\n",
      "DP10\n",
      "0.2980352165148844\n",
      "DP20\n",
      "0.3315178322554338\n",
      "DP30\n",
      "0.3361670704773086\n",
      "DP38\n",
      "0.33410092636392424\n",
      "DP5\n",
      "0.25472033586877485\n",
      "DPB10\n",
      "0.22744739860650007\n",
      "DPB20\n",
      "0.2302457492595456\n",
      "DPB30\n",
      "0.2302457492595456\n",
      "DPB40\n",
      "0.2302457492595456\n",
      "DPB5\n",
      "0.19970507918864297\n",
      "Day\n",
      "-0.010043659971963437\n",
      "DaysFromToday\n",
      "-0.03456006395773041\n",
      "GD10\n",
      "0.3208782417328421\n",
      "GD20\n",
      "0.3424165694451478\n",
      "GD30\n",
      "0.34394803032015786\n",
      "GD38\n",
      "0.3425651510845789\n",
      "GD5\n",
      "0.2815846729136132\n",
      "HF5\n",
      "0.0025050825064461654\n",
      "HGD10\n",
      "0.2281354260583204\n",
      "HGD20\n",
      "0.2361726230457357\n",
      "HGD30\n",
      "0.24030616328657156\n",
      "HGD38\n",
      "0.24064653216882478\n",
      "HGD5\n",
      "0.1889518192308476\n",
      "HGL10\n",
      "-0.09764354391922754\n",
      "HGL20\n",
      "-0.07151504620199899\n",
      "HGL30\n",
      "-0.04663201256339483\n",
      "HGL38\n",
      "-0.042632463543419596\n",
      "HGL5\n",
      "-0.08643074123052963\n",
      "HGS10\n",
      "0.19071482379987148\n",
      "HGS20\n",
      "0.16935499009186483\n",
      "HGS30\n",
      "0.15228009607963502\n",
      "HGS38\n",
      "0.14462206754364446\n",
      "HGS5\n",
      "0.17178015025434085\n",
      "HLF5\n",
      "0.10909509889498041\n",
      "HP10\n",
      "0.19711438141132373\n",
      "HP20\n",
      "0.16742498285852847\n",
      "HP30\n",
      "0.15269898841993318\n",
      "HP38\n",
      "0.14662483974691376\n",
      "HP5\n",
      "0.1759313594484643\n",
      "HomeTeam\n",
      "-0.17140270365272198\n",
      "LFD5\n",
      "0.15730974729723488\n",
      "LSTPA\n",
      "0.26336601033637136\n",
      "LSTPD\n",
      "-0.355060607510383\n",
      "LSTPH\n",
      "-0.2612098915338502\n",
      "MW\n",
      "0.034183970834280396\n",
      "Month\n",
      "-0.017363597157151446\n",
      "Year\n",
      "0.0177159777294272\n"
     ]
    }
   ],
   "source": [
    "for c in list(X_train):\n",
    "    print(c)\n",
    "    print(df['FTR'].corr(df[c],method='spearman'))"
   ]
  },
  {
   "cell_type": "code",
   "execution_count": 19,
   "metadata": {},
   "outputs": [
    {
     "name": "stdout",
     "output_type": "stream",
     "text": [
      "LogisticRegression average accuracy for cross-validation test set is 0.531\n"
     ]
    }
   ],
   "source": [
    "correlation_columns = ['DP20','DP30','DP38','GD10','GD20','GD30','GD38','LSTPD']\n",
    "X = X_train.copy()\n",
    "y = y_train.copy()\n",
    "X = X[correlation_columns]\n",
    "\n",
    "classifier = LogisticRegression()\n",
    "scores = cross_validate(classifier, X, y, cv=10, scoring='accuracy', return_train_score=False, return_estimator=True, n_jobs=-1)\n",
    "print(classifier.__class__.__name__+\" average accuracy for cross-validation test set is %2.3f\" % scores['test_score'].mean())"
   ]
  },
  {
   "cell_type": "code",
   "execution_count": 20,
   "metadata": {},
   "outputs": [],
   "source": [
    "def get_RFE_features(estimator,X,y,df_copy,number_of_features):\n",
    "    rfe = RFE(estimator, number_of_features)\n",
    "    fit = rfe.fit(X, y)\n",
    "    f = rfe.get_support(1)\n",
    "    print(rfe.ranking_,\"\\n\")\n",
    "    print(X.columns[f],\"\\n\")\n",
    "\n",
    "    X = X[X.columns[f]]\n",
    "    return X[X.columns.difference(['FTR'])],rfe"
   ]
  },
  {
   "cell_type": "code",
   "execution_count": 21,
   "metadata": {},
   "outputs": [
    {
     "name": "stdout",
     "output_type": "stream",
     "text": [
      "[49 13 36 20  4  1 38 35 55  5  8 37 12 33  1 16 18 28 17 43 47 50 25 54\n",
      " 27 26 34 57 44 19  9 10 11 58  6 42  1 32  1 24 53  1 14 52 23 61 30 31\n",
      " 22 21 59 15  1  1 48 56 39 45  7 40 60 29  1  1  2  1  3 51 46 41] \n",
      "\n",
      "Index(['AGD5', 'AGS38', 'GD20', 'GD38', 'HGD10', 'HGS20', 'HGS30', 'HomeTeam',\n",
      "       'LFD5', 'LSTPD'],\n",
      "      dtype='object') \n",
      "\n",
      "LogisticRegression average accuracy for cross-validation test set is 0.537\n"
     ]
    }
   ],
   "source": [
    "X = X_train.copy()\n",
    "y = y_train.copy()\n",
    "\n",
    "X = normalize(X)\n",
    "\n",
    "X,rfe = get_RFE_features(LogisticRegression(),X,y,df_copy,10)\n",
    "\n",
    "classifier = LogisticRegression()\n",
    "scores = cross_validate(classifier, X, y, cv=10, scoring='accuracy', return_train_score=False, return_estimator=True, n_jobs=-1)\n",
    "print(classifier.__class__.__name__+\" average accuracy for cross-validation test set is %2.3f\" % scores['test_score'].mean())"
   ]
  },
  {
   "cell_type": "code",
   "execution_count": 22,
   "metadata": {},
   "outputs": [
    {
     "name": "stdout",
     "output_type": "stream",
     "text": [
      "Optimal number of features: 11\n",
      "Selected features: ['AGD5', 'AGS38', 'GD20', 'GD38', 'HGD10', 'HGS20', 'HGS30', 'HomeTeam', 'LFD5', 'LSTPA', 'LSTPD']\n",
      "LogisticRegression average accuracy for cross-validation test set is 0.539\n"
     ]
    },
    {
     "data": {
      "image/png": "[encoded data removed]",
      "text/plain": [
       "<Figure size 720x432 with 1 Axes>"
      ]
     },
     "metadata": {
      "needs_background": "light"
     },
     "output_type": "display_data"
    }
   ],
   "source": [
    "X = X_train.copy()\n",
    "y = y_train.copy()\n",
    "X = normalize(X)\n",
    "\n",
    "rfecv = RFECV(estimator=LogisticRegression(), step=1, cv=10, scoring='accuracy')\n",
    "rfecv.fit(X, y)\n",
    "\n",
    "print(\"Optimal number of features: %d\" % rfecv.n_features_)\n",
    "print('Selected features: %s' % list(X.columns[rfecv.support_]))\n",
    "rfecv_selected_featues = rfecv.support_\n",
    "X = X[X.columns[rfecv.support_]]\n",
    "\n",
    "classifier = LogisticRegression()\n",
    "scores = cross_validate(classifier, X, y, cv=10, scoring='accuracy', return_train_score=False, return_estimator=True, n_jobs=-1)\n",
    "print(classifier.__class__.__name__+\" average accuracy for cross-validation test set is %2.3f\" % scores['test_score'].mean())\n",
    "\n",
    "plt.figure(figsize=(10,6))\n",
    "plt.xlabel(\"Number of features selected\")\n",
    "plt.ylabel(\"Cross validation score (nb of correct classifications)\")\n",
    "plt.plot(range(1, len(rfecv.grid_scores_) + 1), rfecv.grid_scores_)\n",
    "plt.show()"
   ]
  },
  {
   "cell_type": "code",
   "execution_count": 23,
   "metadata": {},
   "outputs": [
    {
     "name": "stdout",
     "output_type": "stream",
     "text": [
      "The best found score and model:\n",
      "0.5390037593984962 {'C': 1, 'class_weight': None, 'multi_class': 'ovr', 'penalty': 'l2', 'solver': 'liblinear'}\n"
     ]
    }
   ],
   "source": [
    "X = X_train.copy()\n",
    "y = y_train.copy()\n",
    "\n",
    "X = normalize(X[X.columns.difference(['FTR'])])\n",
    "\n",
    "X = X[X.columns[rfecv_selected_featues]]\n",
    "\n",
    "param_grid = [\n",
    "  {'penalty': ['l2'], 'solver': [ 'newton-cg','lbfgs', 'sag', 'saga'],'C': [0.001,0.01,0.1,1,10,100,1000],\n",
    "  'multi_class' :  ['ovr', 'multinomial'], 'class_weight' : [None, 'balanced']},\n",
    "    \n",
    "  {'penalty': ['l2'], 'solver': ['liblinear'],'C': [0.001,0.01,0.1,1,10,100,1000],\n",
    "  'multi_class' :  ['ovr'], 'class_weight' : [None, 'balanced']},\n",
    "    \n",
    "  {'penalty': ['l1'], 'solver': ['saga'],'C': [0.001,0.01,0.1,1,10,100,1000],\n",
    "  'multi_class' :  ['ovr', 'multinomial'], 'class_weight' : [None, 'balanced']},\n",
    " ]\n",
    "\n",
    "model_lr = GridSearchCV(LogisticRegression(), param_grid=param_grid, cv=10)\n",
    "model_lr.fit(X, y)\n",
    "clf = model_lr.best_estimator_\n",
    "print('The best found score and model:')\n",
    "print (model_lr.best_score_, model_lr.best_params_) "
   ]
  },
  {
   "cell_type": "code",
   "execution_count": 24,
   "metadata": {},
   "outputs": [
    {
     "name": "stdout",
     "output_type": "stream",
     "text": [
      "LogisticRegression average accuracy for cross-validation test set is 0.539\n"
     ]
    }
   ],
   "source": [
    "X = X_train.copy()\n",
    "y = y_train.copy()\n",
    "\n",
    "X = normalize(X[X.columns.difference(['FTR'])])\n",
    "\n",
    "X = X[X.columns[rfecv_selected_featues]]\n",
    "\n",
    "classifier = LogisticRegression(C= 1,penalty= 'l2',class_weight= None, multi_class= 'ovr',solver= 'liblinear') \n",
    "scores = cross_validate(classifier, X, y, cv=10, scoring='accuracy', return_train_score=False, return_estimator=True, n_jobs=-1)\n",
    "print(classifier.__class__.__name__+\" average accuracy for cross-validation test set is %2.3f\" % scores['test_score'].mean())"
   ]
  },
  {
   "cell_type": "code",
   "execution_count": 25,
   "metadata": {},
   "outputs": [],
   "source": [
    "df_copy = df.copy()\n",
    "\n",
    "y = df_copy['FTR']\n",
    "\n",
    "df_copy = df_copy[df_copy.columns.difference(['FTR'])]\n",
    "df_copy = df_copy[df_copy.columns[rfecv_selected_featues]]\n",
    "\n",
    "df_copy = normalize(df_copy[df_copy.columns.difference(['FTR'])])\n",
    "\n",
    "X = df_copy[df_copy.columns.difference(['FTR'])]\n",
    "\n",
    "X_train, X_validation, y_train, y_validation = train_test_split(X, y, test_size=0.2, random_state=2019)"
   ]
  },
  {
   "cell_type": "code",
   "execution_count": 26,
   "metadata": {},
   "outputs": [
    {
     "name": "stdout",
     "output_type": "stream",
     "text": [
      "Accuracy of logistic regression classifier on test validation set: 0.526\n",
      "Accuracy of logistic regression classifier on train set: 0.541\n",
      "\n",
      " Confusion matrix: \n",
      "[[ 92   0  64]\n",
      " [ 47   0  79]\n",
      " [ 62   0 188]] \n",
      "\n",
      "Classification report: \n",
      "              precision    recall  f1-score   support\n",
      "\n",
      "           A       0.46      0.59      0.52       156\n",
      "           D       0.00      0.00      0.00       126\n",
      "           H       0.57      0.75      0.65       250\n",
      "\n",
      "   micro avg       0.53      0.53      0.53       532\n",
      "   macro avg       0.34      0.45      0.39       532\n",
      "weighted avg       0.40      0.53      0.46       532\n",
      "\n"
     ]
    }
   ],
   "source": [
    "classifier = LogisticRegression(C= 1,penalty= 'l2',class_weight= None, multi_class= 'ovr',solver= 'liblinear') \n",
    "classifier = classifier.fit(X_train,y_train)\n",
    "print('Accuracy of logistic regression classifier on test validation set: {:.3f}'\n",
    "      .format(classifier.score(X_validation, y_validation)))\n",
    "print('Accuracy of logistic regression classifier on train set: {:.3f}'.format(classifier.score(X_train, y_train)))\n",
    "\n",
    "y_pred = classifier.predict(X_validation)\n",
    "print('\\n','Confusion matrix: ')\n",
    "print(confusion_matrix(y_validation, y_pred),'\\n')\n",
    "print('Classification report: ')\n",
    "print(classification_report(y_validation, y_pred))"
   ]
  },
  {
   "cell_type": "code",
   "execution_count": 27,
   "metadata": {},
   "outputs": [
    {
     "data": {
      "text/plain": [
       "<module 'matplotlib.pyplot' from 'C:\\\\ProgramData\\\\Anaconda3\\\\lib\\\\site-packages\\\\matplotlib\\\\pyplot.py'>"
      ]
     },
     "execution_count": 27,
     "metadata": {},
     "output_type": "execute_result"
    },
    {
     "data": {
      "image/png": "[encoded data removed]",
      "text/plain": [
       "<Figure size 432x288 with 1 Axes>"
      ]
     },
     "metadata": {
      "needs_background": "light"
     },
     "output_type": "display_data"
    }
   ],
   "source": [
    "def plot_learning_curve(estimator, X, y, ylim=None, cv=10, scoring='accuracy', obj_line=None,\n",
    "                        n_jobs=1, train_sizes=np.linspace(.1, 1.0, 10)):\n",
    "    \n",
    "    plt.figure()\n",
    "    if ylim is not None:\n",
    "        plt.ylim(*ylim)\n",
    "    plt.xlabel(\"Training examples\")\n",
    "    plt.ylabel(\"Score\")\n",
    "    train_sizes, train_scores, test_scores = learning_curve(\n",
    "        estimator, X, y, cv=cv, scoring=scoring, n_jobs=n_jobs, train_sizes=train_sizes)\n",
    "    train_scores_mean = np.mean(train_scores, axis=1)\n",
    "    train_scores_std  = np.std(train_scores, axis=1)\n",
    "    test_scores_mean  = np.mean(test_scores, axis=1)\n",
    "    test_scores_std   = np.std(test_scores, axis=1)\n",
    "    plt.grid()\n",
    "\n",
    "    plt.fill_between(train_sizes, train_scores_mean - train_scores_std,\n",
    "                     train_scores_mean + train_scores_std, alpha=0.1,\n",
    "                     color=\"r\")\n",
    "    plt.fill_between(train_sizes, test_scores_mean - test_scores_std,\n",
    "                     test_scores_mean + test_scores_std, alpha=0.1, color=\"g\")\n",
    "    plt.plot(train_sizes, train_scores_mean, 'o-', color=\"r\",\n",
    "             label=\"Training score\")\n",
    "    plt.plot(train_sizes, test_scores_mean, 'o-', color=\"g\",\n",
    "             label=\"Cross-validation score\")\n",
    "    \n",
    "    if obj_line:\n",
    "        plt.axhline(y=obj_line, color='blue')\n",
    "\n",
    "    plt.legend(loc=\"best\")\n",
    "    return plt\n",
    "\n",
    "plot_learning_curve(LogisticRegression(C= 1,penalty= 'l1',class_weight= None, multi_class= 'ovr',solver= 'saga') , X_train, y_train )"
   ]
  },
  {
   "cell_type": "code",
   "execution_count": 49,
   "metadata": {},
   "outputs": [],
   "source": [
    "df_copy = df.copy()\n",
    "\n",
    "X = df_copy[df_copy.columns.difference(['FTR'])]\n",
    "y = df_copy['FTR']\n",
    "\n",
    "X_train, X_validation, y_train, y_validation = train_test_split(X, y, test_size=0.2, random_state=2019)"
   ]
  },
  {
   "cell_type": "code",
   "execution_count": 30,
   "metadata": {},
   "outputs": [
    {
     "name": "stdout",
     "output_type": "stream",
     "text": [
      "XGBClassifier average accuracy for cross-validation test set is 0.522\n"
     ]
    }
   ],
   "source": [
    "classifier = xgb.XGBClassifier(nthread =-1)\n",
    "scores = cross_validate(classifier, X_train, y_train, cv=10, scoring='accuracy', n_jobs=-1)\n",
    "print(classifier.__class__.__name__+\" average accuracy for cross-validation test set is %2.3f\" % scores['test_score'].mean())"
   ]
  },
  {
   "cell_type": "code",
   "execution_count": 31,
   "metadata": {},
   "outputs": [
    {
     "name": "stdout",
     "output_type": "stream",
     "text": [
      "seed  0\n",
      "Accuracy of  XGBClassifier  classifier on train set: 0.7529\n",
      "Accuracy of  XGBClassifier  classifier on test set: 0.5227\n",
      "seed  1\n",
      "Accuracy of  XGBClassifier  classifier on train set: 0.7428\n",
      "Accuracy of  XGBClassifier  classifier on test set: 0.4992\n",
      "seed  2\n",
      "Accuracy of  XGBClassifier  classifier on train set: 0.7233\n",
      "Accuracy of  XGBClassifier  classifier on test set: 0.5336\n",
      "seed  3\n",
      "Accuracy of  XGBClassifier  classifier on train set: 0.7206\n",
      "Accuracy of  XGBClassifier  classifier on test set: 0.5211\n",
      "seed  4\n",
      "Accuracy of  XGBClassifier  classifier on train set: 0.7139\n",
      "Accuracy of  XGBClassifier  classifier on test set: 0.5321\n"
     ]
    }
   ],
   "source": [
    "X = X_train.copy()\n",
    "y = y_train.copy()\n",
    "\n",
    "for c in range(5):\n",
    "    print(\"seed \",c)\n",
    "    Xtrain, Xtest, ytrain, ytest = train_test_split(X, y, test_size=0.3, random_state=c)\n",
    "\n",
    "    classifier = xgb.XGBClassifier(nthread =-1)\n",
    "    classifier.fit(Xtrain, ytrain)\n",
    "    print('Accuracy of ',classifier.__class__.__name__,' classifier on train set: {:.4f}'.format(classifier.score(Xtrain, ytrain)))\n",
    "    print('Accuracy of ',classifier.__class__.__name__,' classifier on test set: {:.4f}'.format(classifier.score(Xtest, ytest)))"
   ]
  },
  {
   "cell_type": "code",
   "execution_count": 32,
   "metadata": {},
   "outputs": [
    {
     "name": "stdout",
     "output_type": "stream",
     "text": [
      "XGBClassifier average accuracy for cross-validation sets is 0.522\n",
      "Number of estimator  0\n",
      "Accuracy of  XGBClassifier  classifier on validation set: 0.57\n",
      "Accuracy of  XGBClassifier  classifier on test set: 0.52\n",
      "\n",
      "\n",
      "Number of estimator  1\n",
      "Accuracy of  XGBClassifier  classifier on validation set: 0.49\n",
      "Accuracy of  XGBClassifier  classifier on test set: 0.53\n",
      "\n",
      "\n",
      "Number of estimator  2\n",
      "Accuracy of  XGBClassifier  classifier on validation set: 0.49\n",
      "Accuracy of  XGBClassifier  classifier on test set: 0.52\n",
      "\n",
      "\n",
      "Number of estimator  3\n",
      "Accuracy of  XGBClassifier  classifier on validation set: 0.47\n",
      "Accuracy of  XGBClassifier  classifier on test set: 0.51\n",
      "\n",
      "\n",
      "Number of estimator  4\n",
      "Accuracy of  XGBClassifier  classifier on validation set: 0.50\n",
      "Accuracy of  XGBClassifier  classifier on test set: 0.48\n",
      "\n",
      "\n",
      "Number of estimator  5\n",
      "Accuracy of  XGBClassifier  classifier on validation set: 0.58\n",
      "Accuracy of  XGBClassifier  classifier on test set: 0.51\n",
      "\n",
      "\n",
      "Number of estimator  6\n",
      "Accuracy of  XGBClassifier  classifier on validation set: 0.49\n",
      "Accuracy of  XGBClassifier  classifier on test set: 0.52\n",
      "\n",
      "\n",
      "Number of estimator  7\n",
      "Accuracy of  XGBClassifier  classifier on validation set: 0.54\n",
      "Accuracy of  XGBClassifier  classifier on test set: 0.51\n",
      "\n",
      "\n",
      "Number of estimator  8\n",
      "Accuracy of  XGBClassifier  classifier on validation set: 0.55\n",
      "Accuracy of  XGBClassifier  classifier on test set: 0.52\n",
      "\n",
      "\n",
      "Number of estimator  9\n",
      "Accuracy of  XGBClassifier  classifier on validation set: 0.54\n",
      "Accuracy of  XGBClassifier  classifier on test set: 0.51\n",
      "\n",
      "\n"
     ]
    }
   ],
   "source": [
    "X = X_train.copy()\n",
    "y = y_train.copy()\n",
    "\n",
    "classifier = xgb.XGBClassifier(nthread =-1)\n",
    "scores = cross_validate(classifier, X, y, cv=10, scoring='accuracy', return_train_score=False, return_estimator=True, n_jobs=-1)\n",
    "print(classifier.__class__.__name__+\" average accuracy for cross-validation sets is %2.3f\" % scores['test_score'].mean())\n",
    "\n",
    "ytest = DataFrame(y_validation)\n",
    "ytrain = DataFrame(y_train)\n",
    "\n",
    "for i in range(10):\n",
    "    print('Number of estimator ',i)\n",
    "    print('Accuracy of ',classifier.__class__.__name__,' classifier on validation set: {:.2f}'.format(scores['test_score'][i]))\n",
    "    print('Accuracy of ',classifier.__class__.__name__,' classifier on test set: {:.2f}'.format(scores['estimator'][i].score(X_validation, ytest)))\n",
    "    print('\\n')"
   ]
  },
  {
   "cell_type": "code",
   "execution_count": 33,
   "metadata": {},
   "outputs": [
    {
     "name": "stdout",
     "output_type": "stream",
     "text": [
      "XGBClassifier average accuracy for cross-validation test set is 0.522\n"
     ]
    }
   ],
   "source": [
    "X = X_train.copy()\n",
    "y = y_train.copy()\n",
    "\n",
    "X = normalize(X)\n",
    "\n",
    "model = xgb.XGBClassifier(nthread =-1)\n",
    "scores = cross_validate(classifier, X, y, cv=10, scoring='accuracy', return_train_score=False, return_estimator=True, n_jobs=-1)\n",
    "print(classifier.__class__.__name__+\" average accuracy for cross-validation test set is %2.3f\" % scores['test_score'].mean())"
   ]
  },
  {
   "cell_type": "code",
   "execution_count": 34,
   "metadata": {},
   "outputs": [
    {
     "name": "stdout",
     "output_type": "stream",
     "text": [
      "Before normaliazation :\n",
      "Average fitting time 2.069\n",
      "After normaliazation :\n",
      "Average fitting time 2.126\n",
      "\n",
      "\n",
      "Before normaliazation :\n",
      "Average fitting time 2.018\n",
      "After normaliazation :\n",
      "Average fitting time 2.081\n",
      "\n",
      "\n",
      "Before normaliazation :\n",
      "Average fitting time 2.153\n",
      "After normaliazation :\n",
      "Average fitting time 2.293\n",
      "\n",
      "\n",
      "Before normaliazation :\n",
      "Average fitting time 2.167\n",
      "After normaliazation :\n",
      "Average fitting time 2.306\n",
      "\n",
      "\n",
      "Before normaliazation :\n",
      "Average fitting time 2.051\n",
      "After normaliazation :\n",
      "Average fitting time 2.157\n",
      "\n",
      "\n"
     ]
    }
   ],
   "source": [
    "for j in range(5):\n",
    "    for i in range(2):\n",
    "        X = X_train.copy()\n",
    "        y = y_train.copy()\n",
    "        if i == 1:\n",
    "            X = normalize(X)\n",
    "            print(\"After normaliazation :\")\n",
    "        else :\n",
    "            print(\"Before normaliazation :\")\n",
    "\n",
    "        classifier = xgb.XGBClassifier(nthread =-1)\n",
    "        scores = cross_validate(classifier, X, y, cv=10, scoring='accuracy', return_train_score=False, n_jobs=-1)\n",
    "        print(\"Average fitting time %2.3f\" % scores['fit_time'].mean())\n",
    "    print('\\n')"
   ]
  },
  {
   "cell_type": "code",
   "execution_count": 35,
   "metadata": {},
   "outputs": [
    {
     "name": "stdout",
     "output_type": "stream",
     "text": [
      "Numbers of rows before removing outliers :  2128\n",
      "Numbers of rows after removing outliers :  2051\n"
     ]
    },
    {
     "data": {
      "image/png": "[encoded data removed]",
      "text/plain": [
       "<Figure size 432x288 with 1 Axes>"
      ]
     },
     "metadata": {
      "needs_background": "light"
     },
     "output_type": "display_data"
    },
    {
     "name": "stdout",
     "output_type": "stream",
     "text": [
      "XGBClassifier average accuracy for cross-validation test set is 0.503\n"
     ]
    }
   ],
   "source": [
    "X = X_train.copy()\n",
    "y = y_train.copy()\n",
    "X['FTR'] = y\n",
    "print(\"Numbers of rows before removing outliers : \",len(X))\n",
    "X = remove_outliers_for_FTR(X)\n",
    "print(\"Numbers of rows after removing outliers : \",len(X))\n",
    "print_example_scatter(df,X)\n",
    "y = X['FTR']\n",
    "\n",
    "X = X[X.columns.difference(['FTR'])]\n",
    "\n",
    "classifier = xgb.XGBClassifier(nthread =-1)\n",
    "scores = cross_validate(classifier, X, y, cv=10, scoring='accuracy', return_train_score=False, return_estimator=True, n_jobs=-1)\n",
    "print(classifier.__class__.__name__+\" average accuracy for cross-validation test set is %2.3f\" % scores['test_score'].mean())"
   ]
  },
  {
   "cell_type": "code",
   "execution_count": 36,
   "metadata": {},
   "outputs": [
    {
     "name": "stdout",
     "output_type": "stream",
     "text": [
      "XGBClassifier average accuracy for cross-validation test set is 0.521\n"
     ]
    }
   ],
   "source": [
    "correlation_columns = ['DP20','DP30','DP38','GD10','GD20','GD30','GD38','LSTPD']\n",
    "X = X_train.copy()\n",
    "y = y_train.copy()\n",
    "X = X[correlation_columns]\n",
    "\n",
    "classifier = xgb.XGBClassifier(nthread =-1)\n",
    "scores = cross_validate(classifier, X, y, cv=10, scoring='accuracy', return_train_score=False, return_estimator=True, n_jobs=-1)\n",
    "print(classifier.__class__.__name__+\" average accuracy for cross-validation test set is %2.3f\" % scores['test_score'].mean())"
   ]
  },
  {
   "cell_type": "code",
   "execution_count": 37,
   "metadata": {
    "scrolled": true
   },
   "outputs": [
    {
     "name": "stdout",
     "output_type": "stream",
     "text": [
      "[60 38 34  1  1  4 53 35 49 19 27 45 10  9 25 22  3 31 26  2  1 23 50 20\n",
      " 13  1  1 47  1 30  5  1 24 57 55 54 12 28 11 42 61 21  7 29 48 51 46 44\n",
      "  1  1 59 56 32 17 16 43 39 15  8 37 18 36 33 14 40  1 41  6 52 58] \n",
      "\n",
      "Index(['AGD30', 'AGD38', 'AP38', 'DP30', 'DP38', 'DPB10', 'DPB40', 'HGL30',\n",
      "       'HGL38', 'LSTPD'],\n",
      "      dtype='object') \n",
      "\n",
      "XGBClassifier average accuracy for cross-validation test set is 0.515\n"
     ]
    }
   ],
   "source": [
    "X = X_train.copy()\n",
    "y = y_train.copy()\n",
    "\n",
    "X,rfe = get_RFE_features(LogisticRegression(),X,y,df_copy,10)\n",
    "\n",
    "classifier = xgb.XGBClassifier(nthread =-1)\n",
    "scores = cross_validate(classifier, X, y, cv=10, scoring='accuracy', return_train_score=False, return_estimator=True, n_jobs=-1)\n",
    "print(classifier.__class__.__name__+\" average accuracy for cross-validation test set is %2.3f\" % scores['test_score'].mean())"
   ]
  },
  {
   "cell_type": "code",
   "execution_count": 38,
   "metadata": {},
   "outputs": [
    {
     "name": "stdout",
     "output_type": "stream",
     "text": [
      "Optimal number of features: 10\n",
      "Selected features: ['AF5', 'AGD38', 'AGL30', 'AwayTeam', 'Day', 'DaysFromToday', 'GD30', 'HF5', 'HGD30', 'LSTPD']\n",
      "XGBClassifier average accuracy for cross-validation test set is 0.525\n"
     ]
    },
    {
     "data": {
      "image/png": "[encoded data removed]",
      "text/plain": [
       "<Figure size 720x432 with 1 Axes>"
      ]
     },
     "metadata": {
      "needs_background": "light"
     },
     "output_type": "display_data"
    }
   ],
   "source": [
    "X = X_train.copy()\n",
    "y = y_train.copy()\n",
    "\n",
    "rfecv = RFECV(estimator=xgb.XGBClassifier(nthread =-1), step=1, cv=10, scoring='accuracy')\n",
    "rfecv.fit(X, y)\n",
    "\n",
    "print(\"Optimal number of features: %d\" % rfecv.n_features_)\n",
    "print('Selected features: %s' % list(X.columns[rfecv.support_]))\n",
    "rfecv_selected_featues = rfecv.support_\n",
    "X = X[X.columns[rfecv.support_]]\n",
    "\n",
    "classifier = xgb.XGBClassifier(nthread =-1)\n",
    "scores = cross_validate(classifier, X, y, cv=10, scoring='accuracy', \n",
    "                        return_train_score=False, return_estimator=True, n_jobs=-1)\n",
    "print(classifier.__class__.__name__+\" average accuracy for cross-validation test set is %2.3f\" % scores['test_score'].mean())\n",
    "\n",
    "plt.figure(figsize=(10,6))\n",
    "plt.xlabel(\"Number of features selected\")\n",
    "plt.ylabel(\"Cross validation score (nb of correct classifications)\")\n",
    "plt.plot(range(1, len(rfecv.grid_scores_) + 1), rfecv.grid_scores_)\n",
    "plt.show()"
   ]
  },
  {
   "cell_type": "code",
   "execution_count": 39,
   "metadata": {},
   "outputs": [
    {
     "name": "stdout",
     "output_type": "stream",
     "text": [
      "XGBClassifier average accuracy for cross-validation test set is 0.528\n"
     ]
    }
   ],
   "source": [
    "X = X_train.copy()\n",
    "y = y_train.copy()\n",
    "\n",
    "X = X[X.columns[rfecv_selected_featues]]\n",
    "\n",
    "classifier = xgb.XGBClassifier(nthread =-1)\n",
    "fit_params={'early_stopping_rounds': 20, \n",
    "            'verbose': True,\n",
    "            'eval_set': [[X, y]]}\n",
    "\n",
    "scores = cross_validate(classifier, X, y, cv=10, scoring='accuracy', return_train_score=False,\n",
    "                        return_estimator=True, n_jobs=-1,fit_params = fit_params)\n",
    "print(classifier.__class__.__name__+\" average accuracy for cross-validation test set is %2.3f\" % scores['test_score'].mean())"
   ]
  },
  {
   "cell_type": "code",
   "execution_count": 40,
   "metadata": {},
   "outputs": [
    {
     "name": "stdout",
     "output_type": "stream",
     "text": [
      "0.5399436090225563 {'colsample_bytree': 0.6, 'gamma': 5, 'learning_rate': 0.2, 'max_depth': 3, 'min_child_weight': 1, 'subsample': 0.8}\n"
     ]
    }
   ],
   "source": [
    "X = X_train.copy()\n",
    "y = y_train.copy()\n",
    "\n",
    "X = X[X.columns[rfecv_selected_featues]]\n",
    "\n",
    "class HiddenPrints:\n",
    "    def __enter__(self):\n",
    "        self._original_stdout = sys.stdout\n",
    "        sys.stdout = open(os.devnull, 'w')\n",
    "\n",
    "    def __exit__(self, exc_type, exc_val, exc_tb):\n",
    "        sys.stdout.close()\n",
    "        sys.stdout = self._original_stdout\n",
    "\n",
    "parameters = {\n",
    "        'min_child_weight': [1, 5, 10],\n",
    "        'subsample': [0.6, 0.8, 0.9, 1.0],\n",
    "        'colsample_bytree': [0.6, 0.8, 1.0],\n",
    "        'max_depth': [3, 4, 5],\n",
    "        'gamma': [0.5, 1, 1.5, 2, 5],\n",
    "        'learning_rate':[0.2, 0.3, 0.4, 0.5]\n",
    "        }\n",
    "\n",
    "fit_params={'early_stopping_rounds': 20, \n",
    "            'verbose': True,\n",
    "            'eval_set': [[X, y]]}\n",
    "\n",
    "classifier = xgb.XGBClassifier(nthread =-1)\n",
    "with HiddenPrints():\n",
    "    grid_obj = GridSearchCV(classifier,\n",
    "                            param_grid=parameters,\n",
    "                             fit_params=fit_params,cv=5,n_jobs=-1 )\n",
    "    grid_obj.fit(X, y)\n",
    "    tree_model = grid_obj.best_estimator_\n",
    "\n",
    "print (grid_obj.best_score_, grid_obj.best_params_) "
   ]
  },
  {
   "cell_type": "code",
   "execution_count": 50,
   "metadata": {},
   "outputs": [
    {
     "name": "stdout",
     "output_type": "stream",
     "text": [
      "XGBClassifier average accuracy for cross-validation test set is 0.540\n"
     ]
    }
   ],
   "source": [
    "X = X_train.copy()\n",
    "y = y_train.copy()\n",
    "\n",
    "X = X[X.columns[rfecv_selected_featues]]\n",
    "\n",
    "classifier = xgb.XGBClassifier(subsample= 0.8, gamma= 5, min_child_weight= 1, \n",
    "                               colsample_bytree= 0.6, max_depth= 3,learning_rate=0.2,nthread =-1)\n",
    "fit_params={'early_stopping_rounds': 20, \n",
    "            'verbose': True,\n",
    "            'eval_set': [[X, y]]}\n",
    "\n",
    "scores = cross_validate(classifier, X, y, cv=10, scoring='accuracy', return_train_score=False,\n",
    "                        return_estimator=True, n_jobs=-1,fit_params = fit_params)\n",
    "print(classifier.__class__.__name__+\" average accuracy for cross-validation test set is %2.3f\" % scores['test_score'].mean())"
   ]
  },
  {
   "cell_type": "code",
   "execution_count": 51,
   "metadata": {},
   "outputs": [],
   "source": [
    "df_copy = df.copy()\n",
    "\n",
    "y = df_copy['FTR']\n",
    "\n",
    "X = df_copy[df_copy.columns.difference(['FTR'])]\n",
    "X = X[X.columns[rfecv_selected_featues]]\n",
    "\n",
    "X = X[X.columns.difference(['FTR'])]\n",
    "\n",
    "X_train, X_validation, y_train, y_validation = train_test_split(X, y, test_size=0.2, random_state=2019)"
   ]
  },
  {
   "cell_type": "code",
   "execution_count": 52,
   "metadata": {},
   "outputs": [
    {
     "name": "stdout",
     "output_type": "stream",
     "text": [
      "[0]\tvalidation_0-merror:0.470677\n",
      "Will train until validation_0-merror hasn't improved in 20 rounds.\n",
      "[1]\tvalidation_0-merror:0.453008\n",
      "[2]\tvalidation_0-merror:0.455263\n",
      "[3]\tvalidation_0-merror:0.462782\n",
      "[4]\tvalidation_0-merror:0.455639\n",
      "[5]\tvalidation_0-merror:0.456767\n",
      "[6]\tvalidation_0-merror:0.460902\n",
      "[7]\tvalidation_0-merror:0.462782\n",
      "[8]\tvalidation_0-merror:0.460526\n",
      "[9]\tvalidation_0-merror:0.461654\n",
      "[10]\tvalidation_0-merror:0.462406\n",
      "[11]\tvalidation_0-merror:0.461278\n",
      "[12]\tvalidation_0-merror:0.462782\n",
      "[13]\tvalidation_0-merror:0.46015\n",
      "[14]\tvalidation_0-merror:0.460526\n",
      "[15]\tvalidation_0-merror:0.460902\n",
      "[16]\tvalidation_0-merror:0.460902\n",
      "[17]\tvalidation_0-merror:0.461278\n",
      "[18]\tvalidation_0-merror:0.458271\n",
      "[19]\tvalidation_0-merror:0.460902\n",
      "[20]\tvalidation_0-merror:0.459023\n",
      "[21]\tvalidation_0-merror:0.460902\n",
      "Stopping. Best iteration:\n",
      "[1]\tvalidation_0-merror:0.453008\n",
      "\n",
      "Accuracy of logistic regression classifier on test validation set: 0.551\n",
      "Accuracy of logistic regression classifier on train set: 0.546\n",
      "\n",
      " Confusion matrix: \n",
      "[[ 92   2  62]\n",
      " [ 44   3  79]\n",
      " [ 52   0 198]] \n",
      "\n",
      "Classification report: \n",
      "              precision    recall  f1-score   support\n",
      "\n",
      "           A       0.49      0.59      0.53       156\n",
      "           D       0.60      0.02      0.05       126\n",
      "           H       0.58      0.79      0.67       250\n",
      "\n",
      "   micro avg       0.55      0.55      0.55       532\n",
      "   macro avg       0.56      0.47      0.42       532\n",
      "weighted avg       0.56      0.55      0.48       532\n",
      "\n"
     ]
    }
   ],
   "source": [
    "classifier = xgb.XGBClassifier(subsample= 0.8, gamma= 5, min_child_weight= 1, \n",
    "                               colsample_bytree= 0.6, max_depth= 3,learning_rate=0.2,\n",
    "                               nthread =-1)\n",
    "\n",
    "classifier = classifier.fit(X_train,y_train,early_stopping_rounds= 20,verbose= True,eval_set= [[X, y]])\n",
    "\n",
    "print('Accuracy of logistic regression classifier on test validation set: {:.3f}'\n",
    "      .format(classifier.score(X_validation, y_validation)))\n",
    "print('Accuracy of logistic regression classifier on train set: {:.3f}'.format(classifier.score(X_train, y_train)))\n",
    "\n",
    "y_pred = classifier.predict(X_validation)\n",
    "print('\\n','Confusion matrix: ')\n",
    "print(confusion_matrix(y_validation, y_pred),'\\n')\n",
    "print('Classification report: ')\n",
    "print(classification_report(y_validation, y_pred))"
   ]
  },
  {
   "cell_type": "code",
   "execution_count": 55,
   "metadata": {},
   "outputs": [
    {
     "name": "stdout",
     "output_type": "stream",
     "text": [
      "[0]\tvalidation_0-merror:0.468515\tvalidation_1-merror:0.479323\n",
      "[1]\tvalidation_0-merror:0.453947\tvalidation_1-merror:0.449248\n",
      "[2]\tvalidation_0-merror:0.455827\tvalidation_1-merror:0.453008\n",
      "[3]\tvalidation_0-merror:0.460526\tvalidation_1-merror:0.471804\n",
      "[4]\tvalidation_0-merror:0.454887\tvalidation_1-merror:0.458647\n",
      "[5]\tvalidation_0-merror:0.457237\tvalidation_1-merror:0.454887\n",
      "[6]\tvalidation_0-merror:0.458647\tvalidation_1-merror:0.469925\n",
      "[7]\tvalidation_0-merror:0.459117\tvalidation_1-merror:0.477444\n",
      "[8]\tvalidation_0-merror:0.456297\tvalidation_1-merror:0.477444\n",
      "[9]\tvalidation_0-merror:0.459117\tvalidation_1-merror:0.471804\n",
      "[10]\tvalidation_0-merror:0.458647\tvalidation_1-merror:0.477444\n",
      "[11]\tvalidation_0-merror:0.457707\tvalidation_1-merror:0.475564\n",
      "[12]\tvalidation_0-merror:0.458647\tvalidation_1-merror:0.479323\n",
      "[13]\tvalidation_0-merror:0.455357\tvalidation_1-merror:0.479323\n",
      "[14]\tvalidation_0-merror:0.455827\tvalidation_1-merror:0.479323\n",
      "[15]\tvalidation_0-merror:0.456297\tvalidation_1-merror:0.479323\n",
      "[16]\tvalidation_0-merror:0.456297\tvalidation_1-merror:0.479323\n",
      "[17]\tvalidation_0-merror:0.455827\tvalidation_1-merror:0.483083\n",
      "[18]\tvalidation_0-merror:0.452538\tvalidation_1-merror:0.481203\n",
      "[19]\tvalidation_0-merror:0.455827\tvalidation_1-merror:0.481203\n",
      "[20]\tvalidation_0-merror:0.453947\tvalidation_1-merror:0.479323\n",
      "[21]\tvalidation_0-merror:0.455827\tvalidation_1-merror:0.481203\n",
      "[22]\tvalidation_0-merror:0.453477\tvalidation_1-merror:0.481203\n",
      "[23]\tvalidation_0-merror:0.453477\tvalidation_1-merror:0.483083\n",
      "[24]\tvalidation_0-merror:0.453477\tvalidation_1-merror:0.483083\n",
      "[25]\tvalidation_0-merror:0.453477\tvalidation_1-merror:0.483083\n",
      "[26]\tvalidation_0-merror:0.453947\tvalidation_1-merror:0.486842\n",
      "[27]\tvalidation_0-merror:0.453947\tvalidation_1-merror:0.486842\n",
      "[28]\tvalidation_0-merror:0.455357\tvalidation_1-merror:0.483083\n",
      "[29]\tvalidation_0-merror:0.455357\tvalidation_1-merror:0.486842\n",
      "[30]\tvalidation_0-merror:0.453947\tvalidation_1-merror:0.481203\n",
      "[31]\tvalidation_0-merror:0.453477\tvalidation_1-merror:0.481203\n",
      "[32]\tvalidation_0-merror:0.453947\tvalidation_1-merror:0.483083\n",
      "[33]\tvalidation_0-merror:0.452538\tvalidation_1-merror:0.481203\n",
      "[34]\tvalidation_0-merror:0.452538\tvalidation_1-merror:0.483083\n",
      "[35]\tvalidation_0-merror:0.452538\tvalidation_1-merror:0.483083\n",
      "[36]\tvalidation_0-merror:0.452538\tvalidation_1-merror:0.483083\n",
      "[37]\tvalidation_0-merror:0.452068\tvalidation_1-merror:0.483083\n",
      "[38]\tvalidation_0-merror:0.452538\tvalidation_1-merror:0.483083\n",
      "[39]\tvalidation_0-merror:0.452538\tvalidation_1-merror:0.483083\n",
      "[40]\tvalidation_0-merror:0.452068\tvalidation_1-merror:0.481203\n",
      "[41]\tvalidation_0-merror:0.450188\tvalidation_1-merror:0.479323\n",
      "[42]\tvalidation_0-merror:0.450188\tvalidation_1-merror:0.481203\n",
      "[43]\tvalidation_0-merror:0.450188\tvalidation_1-merror:0.481203\n",
      "[44]\tvalidation_0-merror:0.450188\tvalidation_1-merror:0.481203\n",
      "[45]\tvalidation_0-merror:0.450188\tvalidation_1-merror:0.481203\n",
      "[46]\tvalidation_0-merror:0.450188\tvalidation_1-merror:0.481203\n",
      "[47]\tvalidation_0-merror:0.446429\tvalidation_1-merror:0.481203\n",
      "[48]\tvalidation_0-merror:0.448308\tvalidation_1-merror:0.479323\n",
      "[49]\tvalidation_0-merror:0.447838\tvalidation_1-merror:0.481203\n",
      "[50]\tvalidation_0-merror:0.447838\tvalidation_1-merror:0.481203\n",
      "[51]\tvalidation_0-merror:0.446898\tvalidation_1-merror:0.481203\n",
      "[52]\tvalidation_0-merror:0.448308\tvalidation_1-merror:0.483083\n",
      "[53]\tvalidation_0-merror:0.448308\tvalidation_1-merror:0.483083\n",
      "[54]\tvalidation_0-merror:0.448308\tvalidation_1-merror:0.481203\n",
      "[55]\tvalidation_0-merror:0.446898\tvalidation_1-merror:0.481203\n",
      "[56]\tvalidation_0-merror:0.447838\tvalidation_1-merror:0.481203\n",
      "[57]\tvalidation_0-merror:0.447838\tvalidation_1-merror:0.481203\n",
      "[58]\tvalidation_0-merror:0.447838\tvalidation_1-merror:0.481203\n",
      "[59]\tvalidation_0-merror:0.448308\tvalidation_1-merror:0.479323\n",
      "[60]\tvalidation_0-merror:0.447838\tvalidation_1-merror:0.477444\n",
      "[61]\tvalidation_0-merror:0.447368\tvalidation_1-merror:0.477444\n",
      "[62]\tvalidation_0-merror:0.446898\tvalidation_1-merror:0.477444\n",
      "[63]\tvalidation_0-merror:0.446898\tvalidation_1-merror:0.477444\n",
      "[64]\tvalidation_0-merror:0.445489\tvalidation_1-merror:0.473684\n",
      "[65]\tvalidation_0-merror:0.444549\tvalidation_1-merror:0.471804\n",
      "[66]\tvalidation_0-merror:0.445019\tvalidation_1-merror:0.471804\n",
      "[67]\tvalidation_0-merror:0.445019\tvalidation_1-merror:0.473684\n",
      "[68]\tvalidation_0-merror:0.445489\tvalidation_1-merror:0.471804\n",
      "[69]\tvalidation_0-merror:0.445959\tvalidation_1-merror:0.473684\n",
      "[70]\tvalidation_0-merror:0.446898\tvalidation_1-merror:0.473684\n",
      "[71]\tvalidation_0-merror:0.446429\tvalidation_1-merror:0.473684\n",
      "[72]\tvalidation_0-merror:0.446429\tvalidation_1-merror:0.473684\n",
      "[73]\tvalidation_0-merror:0.445959\tvalidation_1-merror:0.473684\n",
      "[74]\tvalidation_0-merror:0.446429\tvalidation_1-merror:0.473684\n",
      "[75]\tvalidation_0-merror:0.446898\tvalidation_1-merror:0.473684\n",
      "[76]\tvalidation_0-merror:0.447838\tvalidation_1-merror:0.475564\n",
      "[77]\tvalidation_0-merror:0.447368\tvalidation_1-merror:0.475564\n",
      "[78]\tvalidation_0-merror:0.446898\tvalidation_1-merror:0.475564\n",
      "[79]\tvalidation_0-merror:0.446898\tvalidation_1-merror:0.475564\n",
      "[80]\tvalidation_0-merror:0.446898\tvalidation_1-merror:0.475564\n",
      "[81]\tvalidation_0-merror:0.446429\tvalidation_1-merror:0.475564\n",
      "[82]\tvalidation_0-merror:0.446898\tvalidation_1-merror:0.475564\n",
      "[83]\tvalidation_0-merror:0.446898\tvalidation_1-merror:0.475564\n",
      "[84]\tvalidation_0-merror:0.446898\tvalidation_1-merror:0.475564\n",
      "[85]\tvalidation_0-merror:0.446898\tvalidation_1-merror:0.475564\n",
      "[86]\tvalidation_0-merror:0.447368\tvalidation_1-merror:0.475564\n",
      "[87]\tvalidation_0-merror:0.449248\tvalidation_1-merror:0.471804\n",
      "[88]\tvalidation_0-merror:0.449718\tvalidation_1-merror:0.471804\n",
      "[89]\tvalidation_0-merror:0.449718\tvalidation_1-merror:0.471804\n",
      "[90]\tvalidation_0-merror:0.449248\tvalidation_1-merror:0.469925\n",
      "[91]\tvalidation_0-merror:0.449718\tvalidation_1-merror:0.469925\n",
      "[92]\tvalidation_0-merror:0.448778\tvalidation_1-merror:0.475564\n",
      "[93]\tvalidation_0-merror:0.449248\tvalidation_1-merror:0.473684\n",
      "[94]\tvalidation_0-merror:0.446429\tvalidation_1-merror:0.471804\n",
      "[95]\tvalidation_0-merror:0.445959\tvalidation_1-merror:0.471804\n",
      "[96]\tvalidation_0-merror:0.446429\tvalidation_1-merror:0.473684\n",
      "[97]\tvalidation_0-merror:0.446429\tvalidation_1-merror:0.471804\n",
      "[98]\tvalidation_0-merror:0.447368\tvalidation_1-merror:0.471804\n",
      "[99]\tvalidation_0-merror:0.447368\tvalidation_1-merror:0.471804\n"
     ]
    },
    {
     "data": {
      "image/png": "[encoded data removed]",
      "text/plain": [
       "<Figure size 432x288 with 1 Axes>"
      ]
     },
     "metadata": {
      "needs_background": "light"
     },
     "output_type": "display_data"
    }
   ],
   "source": [
    "unique = df.FTR.unique()\n",
    "result_code = dict(zip(unique, range(len(unique))))\n",
    "def code_FTR(df):\n",
    "    df = df.applymap(lambda s: result_code.get(s) if s in result_code else s)\n",
    "    return df\n",
    "\n",
    "classifier = xgb.XGBClassifier(subsample= 0.8, gamma= 5, min_child_weight= 1, \n",
    "                               colsample_bytree= 0.6, max_depth= 3,learning_rate=0.2,nthread =-1)\n",
    "eval_set = [(X_train, y_train), (X_validation, y_validation)]\n",
    "classifier.fit(X_train, y_train, eval_metric=[\"merror\"], eval_set=eval_set, verbose=True)\n",
    "\n",
    "y_pred = classifier.predict(X_validation)\n",
    "\n",
    "y_pred = DataFrame(y_pred)\n",
    "y_pred = code_FTR(y_pred)\n",
    "\n",
    "predictions = [round(value) for value in y_pred]\n",
    "\n",
    "results = classifier.evals_result()\n",
    "epochs = len(results['validation_0']['merror'])\n",
    "x_axis = range(0, epochs)\n",
    "\n",
    "fig, ax = plt.subplots()\n",
    "ax.plot(x_axis, results['validation_0']['merror'], label='Train')\n",
    "ax.plot(x_axis, results['validation_1']['merror'], label='Test')\n",
    "ax.legend()\n",
    "plt.ylabel('Classification Error')\n",
    "plt.title('XGBoost Classification Error')\n",
    "plt.show()"
   ]
  },
  {
   "cell_type": "code",
   "execution_count": null,
   "metadata": {
    "collapsed": true
   },
   "outputs": [],
   "source": []
  }
 ],
 "metadata": {
  "kernelspec": {
   "display_name": "Python 3",
   "language": "python",
   "name": "python3"
  },
  "language_info": {
   "codemirror_mode": {
    "name": "ipython",
    "version": 3
   },
   "file_extension": ".py",
   "mimetype": "text/x-python",
   "name": "python",
   "nbconvert_exporter": "python",
   "pygments_lexer": "ipython3",
   "version": "3.6.6"
  }
 },
 "nbformat": 4,
 "nbformat_minor": 2
}
